{
 "cells": [
  {
   "cell_type": "markdown",
   "id": "6376ba2a",
   "metadata": {},
   "source": [
    "# Shor's Algorithm Tutorial"
   ]
  },
  {
   "cell_type": "markdown",
   "id": "477947f4",
   "metadata": {},
   "source": [
    "*Author: Júlia Barberà Rodríguez*, 15th February of 2023"
   ]
  },
  {
   "cell_type": "markdown",
   "id": "95ed5495",
   "metadata": {},
   "source": [
    "This notebook presents a code to find the factors of an integer $N$ using Shor's algorithm.\n",
    "\n",
    "For computational reasons, it simulates the algorithm for $N = 91$.  "
   ]
  },
  {
   "cell_type": "markdown",
   "id": "9cc35fc1",
   "metadata": {},
   "source": [
    "__Table of contents:__\n",
    "1. [Period finding](#period-finding)\n",
    "\n",
    "2. [Theoretical Background: Shor's algorithm](#Theoretical-Background-Shors-algorithm)\n",
    "    1. [The Quantum Fourier transform](#The-Quantum-Fourier-transform)\n",
    "    2. [Phase Estimation¶](#Phase-Estimation)\n",
    "    3. [Shor's algorithm¶](#Shors-algorithm)\n",
    "     \n",
    "    \n",
    "3. [Circuit Implementation](#Circuit-Implementation)\n",
    "    1. [QFT Implementation](#QFT-Implementation)\n",
    "    2. [Unitaries Implementation](#Unitaries-Implementation)\n",
    "    3. [Shor's algorithm Implementation for N = 91](#Shor-algorithm-Implementation-for-N-91)\n",
    "    \n",
    "        3.3.1.[Comparison on the effect of different choices of x](#Comparison-on-effect-different-choices-x)\n",
    "        \n",
    "        3.3.2.[Study on the effect of the size t of the working register](#Study-effect-size-t-working-register)\n",
    "        \n",
    "        3.3.3.[Considerations about the measurement requirements, and computational cost](#Computational-cost)\n",
    "    \n"
   ]
  },
  {
   "cell_type": "code",
   "execution_count": 11,
   "id": "96d30955",
   "metadata": {},
   "outputs": [
    {
     "name": "stdout",
     "output_type": "stream",
     "text": [
      "Imports Successful\n"
     ]
    }
   ],
   "source": [
    "import numpy as np\n",
    "from qiskit import QuantumCircuit\n",
    "import sys\n",
    "np.set_printoptions(threshold=sys.maxsize)\n",
    "import pandas as pd\n",
    "from fractions import Fraction\n",
    "import matplotlib.pyplot as plt\n",
    "from qiskit import QuantumCircuit, Aer, transpile, assemble\n",
    "from qiskit.visualization import plot_histogram\n",
    "import warnings\n",
    "print(\"Imports Successful\")"
   ]
  },
  {
   "cell_type": "markdown",
   "id": "4e67eac2",
   "metadata": {},
   "source": [
    "# 1. Period finding"
   ]
  },
  {
   "cell_type": "markdown",
   "id": "dfd4139a",
   "metadata": {},
   "source": [
    "The modulo operation gives the remainder when a number is devided by another one such that $(15(mod3)=0)$  and $(17(mod5) = 2)$. We introduce the function\n",
    "<br>\n",
    "<center> $f(x) = a^r(mod N)$,\n",
    "<br>\n",
    "\n",
    "where $a$ and $N$ are positive integers and are coprimes. Now we define the period $r$ that fulfills \n",
    "\n",
    "<br>\n",
    "<center> $ a^r (mod N)=1$.\n",
    "<br>\n",
    "    \n",
    " We can plot the function $f(x) = a^r(mod N)$ to look at the concept of periodicity. "
   ]
  },
  {
   "cell_type": "code",
   "execution_count": 14,
   "id": "3fb92581",
   "metadata": {},
   "outputs": [],
   "source": [
    "def plot_function(a,N):\n",
    "    funcValues = []\n",
    "    periods = []\n",
    "    for x in range(N): \n",
    "        funcValues.append(a**x%N)\n",
    "        if a**x%N == 1: \n",
    "            periods.append(x)    \n",
    "    r = periods[1] - periods[0]\n",
    "    print(f\"The period of the function is r = {r}\")\n",
    "    plt.plot([x for x in range(N)], funcValues)\n",
    "    plt.xlabel(\"x\")\n",
    "    plt.ylabel(f'{a}^x mod {N}')"
   ]
  },
  {
   "cell_type": "code",
   "execution_count": 15,
   "id": "432bc8b4",
   "metadata": {},
   "outputs": [
    {
     "name": "stdout",
     "output_type": "stream",
     "text": [
      "The period of the function is r = 12\n"
     ]
    },
    {
     "data": {
      "image/png": "[encoded data removed]",
      "text/plain": [
       "<Figure size 432x288 with 1 Axes>"
      ]
     },
     "metadata": {
      "needs_background": "light"
     },
     "output_type": "display_data"
    }
   ],
   "source": [
    "plot_function(3,35)"
   ]
  },
  {
   "cell_type": "markdown",
   "id": "b9f88678",
   "metadata": {},
   "source": [
    "In the plot presented above we define the periodicity $r$ as the length of two consecutive points where $f(x) = 1$. This results can be used in Shor's algorithm because by performing the QFT as will be shown, we can find the period $r$ which will allow us to find the factors of $N$."
   ]
  },
  {
   "cell_type": "markdown",
   "id": "e6641c96",
   "metadata": {},
   "source": [
    "# 2. Theoretical Background: Shor's algorithm"
   ]
  },
  {
   "cell_type": "markdown",
   "id": "3506a9b6",
   "metadata": {},
   "source": [
    "## 2.1. The Quantum Fourier transform "
   ]
  },
  {
   "cell_type": "markdown",
   "id": "27094cc9",
   "metadata": {},
   "source": [
    "The discrete fourier transform can be written classically as\n",
    "<br>\n",
    "<center> $y_k = \\frac{1}{\\sqrt{N}}\\sum^{N-1}_{j = 0} e^{2\\pi ijk/N} x_j$,\n",
    "<br>\n",
    "\n",
    "which performs the DFT over a set of $N$ numbers and returns another set of the same length. It can be proved that the Quantum Fourier Transform (QFT) reads\n",
    "\n",
    "<br>\n",
    "<center> $|j\\rangle \\rightarrow \\frac{1}{\\sqrt{N}}\\sum^{N-1}_{k = 0} e^{2\\pi ijk/N} |k\\rangle$,\n",
    "<br>\n",
    "    \n",
    "where $j = j_1j_2...j_n$ and each $j_i$ is binary. Notice that the QFT performs a transformation of a quantum state, returing also a quantum state instead of a set of numbers. As shown in class, the previous equation can also be rewritten in a more convinient way using that the transformation of a binary number to a decimal is $j_1j_2...j_n = j_1 2^{n-1} j_2 2^{n-2} + j_n2^0 $ and then $0.j_1j_2...j_n = j_1 2^{-1} j_2 2^{-2}...j_n2^{-n} $,\n",
    "    \n",
    "<br>\n",
    "<center> $\\frac{1}{\\sqrt{N}}\\sum^{N-1}_{k = 0} e^{2\\pi ijk/N} |k\\rangle = \\frac{1}{\\sqrt{N}}(|0\\rangle + e^{2\\pi i0.j_n}|1\\rangle)\\cdot(|0\\rangle + e^{2\\pi i0.j_{n-1}j_n}|1\\rangle)...(|0\\rangle + e^{2\\pi i0.j_1...j_n}|1\\rangle)$.\n",
    "<br> \n",
    "\n",
    "The QFT will be implemented for the phase estimation algorithm in order to undo the transformation and find the period of the function as we will see. "
   ]
  },
  {
   "cell_type": "markdown",
   "id": "1d3f9280",
   "metadata": {},
   "source": [
    "## 2.2. Phase Estimation "
   ]
  },
  {
   "cell_type": "markdown",
   "id": "d4b20ee3",
   "metadata": {},
   "source": [
    "Shor's algorithm relies on the quantum phase estimation on a unitary operator such that \n",
    "<br>\n",
    "<center> $U|y\\rangle = |a y (mod N) \\rangle$. \n",
    "<br>\n",
    "    \n",
    "For example, in the previous case where $a = 3$ and $N = 35$ we would see that starting by the state $|1\\rangle$, the state will be found again after $r$ applications of $U$. Thus, a superposition of the eigenstates of these cycle would be an eigenstate of $U$ with eigenvalue 1, \n",
    "\n",
    "<br>\n",
    "<center>\n",
    "$|u_s \\rangle = \\frac{1}{\\sqrt{r}} \\sum^{r-1}_{k = 0} |a^k (mod N)\\rangle$. \n",
    "<br>\n",
    "\n",
    "We could introduce here a different phase for each $k$ which would lead to a more interesting result since we would have a unique eigenstate for every $|u_s\\rangle$ as \n",
    "\n",
    " <br>\n",
    "<center>\n",
    "$|u_s \\rangle = \\frac{1}{\\sqrt{r}} \\sum^{r-1}_{k = 0}\\exp{-\\frac{2\\pi i s k}{r}} |a^k (mod N) \\rangle$. \n",
    "<br>\n",
    "    \n",
    "It can be proved that the sumation of all these becomes \n",
    "\n",
    "<br>\n",
    "<center>\n",
    "$\\sum_{s =0}^{s = r-1}|u_s \\rangle = | 1\\rangle$,\n",
    "<br>\n",
    " \n",
    "because all phases cancel out all the states except the state one's phases. This will be useful for the algorithm because by initializing the second register to $|1\\rangle$ (which is easy to prepare), we obtain an eigenstate when implementing the unitaries. Using this result, we can develop the quantum phase estimation algorithm to measure the phase: $\\phi = s/r$.  \n",
    "    \n",
    "Let us look at how this unitary operator acts over the register that we will call $u$. Suppose that the control qubit is in a superposition such that $H|u\\rangle = \\frac{1}{\\sqrt{2}}(|0\\rangle + |1\\rangle)$, then the state after applying $U$ will be, \n",
    "    \n",
    "<br>\n",
    "<center>\n",
    "$\\frac{1}{\\sqrt{2}}(|0\\rangle + |1\\rangle)\\otimes U|u\\rangle = \\frac{1}{\\sqrt{2}}(|0\\rangle + e^{2\\pi i \\phi}|1\\rangle)\\otimes |u\\rangle$.\n",
    "<br>\n",
    "\n",
    "Notice that this equation is the same as the one obtained for the QTF but the exponent is quite different. Let us rearrange this equation to obtain something similar to that. Taking the left hand side of the tensor \n",
    "product, the exponent is proportional to $2^{j-1}\\phi$. Thus, since the exponential is periodic, we can write $\\phi$ between $0$ and $1$ in the following way $\\phi = \\phi_1 2^{-1} +  \\phi_2 2^{-2} +...+ \\phi_n 2^{-n} $. "
   ]
  },
  {
   "cell_type": "markdown",
   "id": "f72921d7",
   "metadata": {},
   "source": [
    "## 2.3. Shor's algorithm "
   ]
  },
  {
   "cell_type": "markdown",
   "id": "4da4f9f2",
   "metadata": {},
   "source": [
    "Shor's algorithm aims to find the two prime numbers that factorize $N$. The algorithm works as follows.\n",
    "\n",
    "1. Choose a random number $a\\leq N $\n",
    "\n",
    "2. Compute $g.c.d(a,N).$\n",
    "\n",
    "3. If $g.c.d(a,N) = 1$, then compute $f(x) = a^x (mod N). $\n",
    "\n",
    "4. If $g.c.d(a,N) \\neq 1$, $a$ is a factor of $N$. \n",
    "\n",
    "5. Compute the period $r$ of the function: $f(x) = f(x + r)$\n",
    "\n",
    "6. If $r$ is odd the factor will be a rational number and we want them to be integers. If $a^{r/2} + 1 = 0 (mod N)$, the factor will be a multiple of $N$ and therefore $g.c.d(a,N) = N$ which will not return any factor of $N$. In these cases, go to step 1. \n",
    "\n",
    "7. If 6 is not fulfilled then $g.c.d(a^{r/2}+1, N)$ or $g.c.d(a^{r/2}-1, N)$ are factors of $N$. \n",
    "\n",
    "It is important to remark two things here. The first one is that this algorithm does not work in almost every case when $N$ is even but in this situation $2$ will always be a trivial factor. Secondly, the step 7 is true because we can write $a^r = 1 (mod N) $ which implies $a^r-1 = 0 (mod N) = k\\cdot N$. Since $a^r-1 = (a^{r/2}+1)(a^{r/2}-1)$ one of these two terms will be a factor of $N$. "
   ]
  },
  {
   "cell_type": "markdown",
   "id": "ffaad641",
   "metadata": {},
   "source": [
    "# 3. Circuit Implementation "
   ]
  },
  {
   "cell_type": "markdown",
   "id": "03db579e",
   "metadata": {},
   "source": [
    "*Take into account that qubits are inversed in qiskit*\n",
    "\n",
    "For the algorithm implementation we will need two registers: the first one with $t$ qubits will be used to represent the $j's$ and a second register that will be used to implement the unitary gates and it has to be composed with as many qubits as qubits needed to represent $N$: $\\log_2{N}$. \n",
    "\n",
    "The full circuit of Shor's algorithm is the following. "
   ]
  },
  {
   "cell_type": "markdown",
   "id": "fd426b74",
   "metadata": {},
   "source": [
    "![shors.png](shors.png)"
   ]
  },
  {
   "cell_type": "markdown",
   "id": "37db5895",
   "metadata": {},
   "source": [
    "Where the first set of hadamards creates the superposition, the unitaries compute the operation $U|y\\rangle = |ay(mod N)\\rangle$ and then with the inverse QFT we can estimate the phases. "
   ]
  },
  {
   "cell_type": "markdown",
   "id": "85bcd08d",
   "metadata": {},
   "source": [
    "## 3.1. QFT Implementation\n",
    "\n",
    "For this algorithm we need to construct the inverse of the Quantum Fourier Transform as seen in the previous circuit. First, we discuss the QFT for 3 qubits which should have the expression\n",
    "\n",
    "<br>\n",
    "<center>$\\frac{1}{\\sqrt{2^{3/2}}}(|0\\rangle + e^{2\\pi i0.j_3}|1\\rangle)\\cdot(|0\\rangle + e^{2\\pi i0.j_2j_3}|1\\rangle)\\cdot(|0\\rangle + e^{2\\pi i0.j_1j_2j_3}|1\\rangle)$\n",
    "<br>\n",
    "    \n",
    "to understand then the inverse with $j_1 = q_2, j_2 = q_1$ and $j_3 = q_0$. The previous equation can be achieved by the following. \n",
    "\n",
    "1. Implement a Hadamard gate over the first qubit to obtain the state $(H\\otimes I \\otimes I)|000\\rangle = \\left (\\frac{|0\\rangle + |1\\rangle}{\\sqrt{2}}\\right )\\otimes|00\\rangle $\n",
    "\n",
    "2. Apply the controlled phase gate which has the shape, \n",
    "\n",
    "<center>\n",
    "$CPhase = \\left ( \\begin{array}\\\\\n",
    "1 & 0 & 0 & 0\\\\\n",
    "0 & 1 & 0 & 0\\\\\n",
    "0 & 0 & 1 & 0\\\\\n",
    "1 & 0 & 0 & e^{i\\phi}\n",
    "\\end{array}\\right )$\n",
    "<center>\n",
    "\n",
    "<br>   \n",
    "    \n",
    "using as target the first qubit and as control the second one and $\\phi = \\frac{\\pi}{2}$ to obtain ${CPhase}^{\\otimes(1,2)}\\left (\\frac{|0\\rangle + |1\\rangle}{\\sqrt{2}}\\right )\\otimes|00\\rangle = \\left (\\frac{|0\\rangle + e^{i\\pi/2}|1\\rangle}{\\sqrt{2}}\\right )\\otimes|00\\rangle$\n",
    "\n",
    "    \n",
    "    \n",
    "3.Apply the controlled phase gate with $\\phi = \\frac{\\pi}{4}$ using as target the first qubit and as control the second one. We have \n",
    "    \n",
    "<br>\n",
    "<center>${CPhase}^{\\otimes(1,2)}\\left(\\frac{|0\\rangle + e^{i\\pi/2}|1\\rangle}{\\sqrt{2}}\\right )\\otimes|00\\rangle = \\left(\\frac{|0\\rangle + e^{i\\pi/2}e^{i\\pi/4}|1\\rangle}{\\sqrt{2}}\\right)\\otimes|00\\rangle $\n",
    "<br>\n",
    "    \n",
    "4.Implement Hadamard on the second qubit such that $\\left(\\frac{|0\\rangle + e^{i\\pi/2}e^{i\\pi/4}|1\\rangle}{\\sqrt{2}}\\right)\\otimes\\left ( \\frac{|0\\rangle + |1\\rangle}{\\sqrt{2}}\\right )\\otimes|0\\rangle$\n",
    "    \n",
    "5.Apply a $CPhase$ with $\\phi = \\frac{\\pi}{2}$ using as target the second qubit and as control the third one to obtain $\\left(\\frac{|0\\rangle + e^{i\\pi/2}e^{i\\pi/4}|1\\rangle}{\\sqrt{2}}\\right)\\otimes\\left ( \\frac{|0\\rangle + e^{i\\pi/2}|1\\rangle}{\\sqrt{2}}\\right )\\otimes|0\\rangle$.\n",
    "\n",
    " \n",
    "6.Implement the last Hadamard on the last qubit $\\left(\\frac{|0\\rangle + e^{i\\pi/2}e^{i\\pi/4}|1\\rangle}{\\sqrt{2}}\\right)\\otimes\\left ( \\frac{|0\\rangle + e^{i\\pi/2}|1\\rangle}{\\sqrt{2}}\\right )\\otimes\\left (\\frac{|0\\rangle + |1\\rangle}{\\sqrt{2}}\\right)$.\n",
    " \n",
    "7.Finally, the use of the $SWAP$ gate is needed since the order of the qubits is reversed in the output state."
   ]
  },
  {
   "cell_type": "markdown",
   "id": "94a3a164",
   "metadata": {},
   "source": [
    "Therefore, to construct the inverse QFT we should follow the previous steps but going from 7 to 1. "
   ]
  },
  {
   "cell_type": "code",
   "execution_count": 4,
   "id": "2e91f986",
   "metadata": {},
   "outputs": [],
   "source": [
    "def qft_dagger(n):\n",
    "    \"\"\"n-qubit QFTdagger the first n qubits in circ\"\"\"\n",
    "    qc = QuantumCircuit(n)\n",
    "    # Don't forget the Swaps!\n",
    "    for qubit in range(n//2):\n",
    "        qc.swap(qubit, n-qubit-1)\n",
    "    for j in range(n):\n",
    "        for m in range(j):\n",
    "            qc.cp(-np.pi/float(2**(j-m)), m, j)\n",
    "        qc.h(j)\n",
    "    qc.name = \"QFT†\"\n",
    "    return qc"
   ]
  },
  {
   "cell_type": "code",
   "execution_count": 5,
   "id": "9b15ef42",
   "metadata": {},
   "outputs": [
    {
     "data": {
      "image/png": "[encoded data removed]",
      "text/plain": [
       "<Figure size 688.597x204.68 with 1 Axes>"
      ]
     },
     "execution_count": 5,
     "metadata": {},
     "output_type": "execute_result"
    }
   ],
   "source": [
    "circuit = qft_dagger(3)\n",
    "circuit.draw(output='mpl')"
   ]
  },
  {
   "cell_type": "markdown",
   "id": "c2600c71",
   "metadata": {},
   "source": [
    "## 3.2. Unitaries Implementation"
   ]
  },
  {
   "cell_type": "markdown",
   "id": "6dbec201",
   "metadata": {},
   "source": [
    "In this section we prepare the quantum state after the implementation of the unitary gates. These unitaries need to perform the operation $U|y\\rangle = |ay(mod N)\\rangle$. \n",
    "\n",
    "1. Creation of a vector filled with zeros of length $2^n$ with $n$ the total number of qubits. \n",
    "2. Express the different states of the first register in binary representation. \n",
    "3. Compute $|ay(mod N)\\rangle$ starting with $|y\\rangle = |1\\rangle$ such that $U|1\\rangle = |a(modN)\\rangle$. \n",
    "4. Redifine the state $|y\\rangle$ to $|y\\rangle = |ay(mod N)\\rangle $ to implement the second unitary.\n",
    "5. Represent in binary the $y(modN)$ using the second set of qubits. \n",
    "6. Write a non null coefficient in front of the position of the state obtained after the first unitary. \n",
    "\n",
    "Repeat from step 2 to 6 for all the qubits of the first register. \n",
    "\n",
    "To have an idea about the performance of this function we can do an example for $a = 7$ and $N = 15$. \n",
    "We start implementing the first unitary, \n",
    "\n",
    "<br>\n",
    "<center> $U|1\\rangle = |7\\cdot 1 (mod 15)\\rangle = |7\\rangle$\n",
    "<br>\n",
    "<br>    \n",
    "<center> $U|7\\rangle = |7\\cdot 7 (mod 15)\\rangle = |4\\rangle$\n",
    "<br>\n",
    "<br>   \n",
    "<center> $U|4\\rangle = |7\\cdot 4 (mod 15)\\rangle = |13\\rangle$\n",
    "<br>\n",
    "<br>    \n",
    "<center> $U|13\\rangle = |7\\cdot 13 (mod 15)\\rangle = |1\\rangle$\n",
    "<br>\n",
    "\n",
    "For this example, a $1$ would be written in front of the states that the first register is in the state $1,7,4$ or $13$. "
   ]
  },
  {
   "cell_type": "code",
   "execution_count": 6,
   "id": "05347e31",
   "metadata": {},
   "outputs": [],
   "source": [
    "def get_coeffs(x, N, n_q, n_count):\n",
    "    vec = np.zeros(2**n_q)\n",
    "    base = 1\n",
    "    for i in range(2**n_count):\n",
    "        s1 = np.binary_repr(i,n_count)\n",
    "        mod2 = np.mod(base,N)\n",
    "        base = mod2*x\n",
    "        s2 = np.binary_repr(mod2,n_q-n_count)\n",
    "        #print(i,'\\t',mod2,'\\t',s1,'\\t',s2)\n",
    "        vec[int(s2+s1,2)] = 1\n",
    "    return vec"
   ]
  },
  {
   "cell_type": "markdown",
   "id": "12c12c85",
   "metadata": {},
   "source": [
    "## 3.3. Shor's algorithm Implementation for N = 91"
   ]
  },
  {
   "cell_type": "markdown",
   "id": "d82b6410",
   "metadata": {},
   "source": [
    "The implementation of Shor's algorithm for $N=91$ is presented below. The reason to choose this number is because we know that it will factorize in two prime numbers and the results will match the theoretical background of the algorithm. \n",
    "\n",
    "Thus, in this sections we present the functions used to compute the factors. In all functions, we have taken into account if \"list_x\" or \"n_count\" were list, because in the case they are it means that we are either doing the study of section 3.3.1 or the study for 3.3.2. (obtaining a different list for \"total_counts\"). \n",
    "\n",
    "The function \"calculate_guess\" has been extracted from the provided material as well as part of the function \"calculate_factors\"."
   ]
  },
  {
   "cell_type": "code",
   "execution_count": 7,
   "id": "74199351",
   "metadata": {},
   "outputs": [],
   "source": [
    "def calculate_guess(N, list_x, n_count):\n",
    "    \n",
    "    ''' Given the number N to factorize, returns a list with the frequencies associated to \n",
    "    the different possible fractions for different values of x and qubits of the first register (t)'''\n",
    "    \n",
    "    total_counts = []\n",
    "    # Sweeping x\n",
    "    if type(list_x) == list:\n",
    "        n_q = int(np.ceil(np.log2(N))) + n_count\n",
    "        \n",
    "        for x in list_x:\n",
    "            vec = get_coeffs(x, N, n_q, n_count)\n",
    "            vec = np.multiply(vec, 1/np.sqrt(2**n_count))\n",
    "\n",
    "            Q = QuantumCircuit(n_q,n_count)\n",
    "            Q.initialize(vec)\n",
    "            Q.append(qft_dagger(n_count),range(n_count))\n",
    "            Q.measure(range(n_count),range(n_count))\n",
    "            Q.draw(fold=-1)  # -1 means 'do not fold'\n",
    "            \n",
    "            aer_sim = Aer.get_backend('aer_simulator')\n",
    "            t_qc = transpile(Q, aer_sim)\n",
    "            qobj = assemble(t_qc)\n",
    "            results = aer_sim.run(qobj,shots=10000).result()\n",
    "            counts = results.get_counts()\n",
    "            total_counts.append(counts)\n",
    "    # Sweeping t        \n",
    "    elif type(n_count) == list:\n",
    "        for t in n_count:\n",
    "            \n",
    "            n_q = int(np.ceil(np.log2(N))) + t\n",
    "\n",
    "            vec = get_coeffs(list_x, N, n_q, t)\n",
    "            vec = np.multiply(vec, 1/np.sqrt(2**t))\n",
    "            \n",
    "            Q = QuantumCircuit(n_q,t)\n",
    "            Q.initialize(vec)\n",
    "            Q.append(qft_dagger(t),range(t))\n",
    "            Q.measure(range(t),range(t))\n",
    "            Q.draw(fold=-1)  # -1 means 'do not fold\n",
    "\n",
    "            aer_sim = Aer.get_backend('aer_simulator')\n",
    "            t_qc = transpile(Q, aer_sim)\n",
    "            qobj = assemble(t_qc)\n",
    "            results = aer_sim.run(qobj,shots=10000).result()\n",
    "            counts = results.get_counts()\n",
    "            total_counts.append(counts)\n",
    "   \n",
    "    return total_counts"
   ]
  },
  {
   "cell_type": "code",
   "execution_count": 8,
   "id": "11ab8588",
   "metadata": {},
   "outputs": [],
   "source": [
    "def calculate_factors(list_x, total_counts, N, n_count):\n",
    "    \n",
    "    ''' Given a list with the counts for each state, computes the continuous fraction\n",
    "    and obtains from there the candidate factors. For every x or t, appends a dicctionary with the\n",
    "    probabilities associated to each guess'''\n",
    "    \n",
    "    measured_phases = []\n",
    "    factors_dic = []\n",
    "    i = 0\n",
    "    for counts in total_counts:\n",
    "        freq_dic={}\n",
    "        # Sweeping x\n",
    "        if type(list_x) == list:\n",
    "            x = list_x[i]\n",
    "            t = n_count\n",
    "        # Sweeping t\n",
    "        elif type(list_x) != list:\n",
    "            x = list_x\n",
    "            t = n_count[i]\n",
    "        \n",
    "        for output in counts:\n",
    "            decimal = int(output, 2)  # Convert (base 2) string to decimal\n",
    "            phase = decimal/(2**t)  # Find corresponding eigenvalue\n",
    "            measured_phases.append(phase)\n",
    "          \n",
    "            frac = Fraction(phase).limit_denominator(N)\n",
    "            guess1 = np.gcd(x**(frac.denominator//2)-1, N)\n",
    "            guess2 = np.gcd(x**(frac.denominator//2)+1, N)\n",
    "             \n",
    "            # Adds probability that appears a guess to the key\n",
    "            if guess1 in freq_dic.keys():\n",
    "                freq_dic[guess1] += 1*(counts.get(output)/20000.)\n",
    "            elif guess1 is not freq_dic.keys():\n",
    "                freq_dic[guess1] = 1*(counts.get(output)/20000.)\n",
    "            if guess2 in freq_dic.keys():\n",
    "                freq_dic[guess2] += 1*(counts.get(output)/20000.)\n",
    "            elif guess2 is not freq_dic.keys():\n",
    "                freq_dic[guess2] = 1*(counts.get(output)/20000.)\n",
    "\n",
    "        factors_dic.append(dict(sorted(freq_dic.items())))\n",
    "        i += 1\n",
    "        \n",
    "    return factors_dic"
   ]
  },
  {
   "cell_type": "code",
   "execution_count": 9,
   "id": "519cb893",
   "metadata": {},
   "outputs": [],
   "source": [
    "def plot_hist(factors_dic, list_x, n_count, N):\n",
    "    \n",
    "    ''' Given a list of dictionaries that contain the probabilities to obtain a factor for\n",
    "     every x or register with t qubits, plots a histogram that represents the probability to \n",
    "     measure each factor vs the parameter that we are sweeping.'''\n",
    "    \n",
    "    fig, ax = plt.subplots()\n",
    "    x = []\n",
    "    # Lists the different factors in the x axis\n",
    "    for i in range(len(factors_dic)):\n",
    "        for j in list(factors_dic[i].keys()):\n",
    "            if j in x:\n",
    "                pass\n",
    "            else:\n",
    "                x.append(j)\n",
    "\n",
    "    x = sorted(x)   \n",
    "    \n",
    "    # Plot when sweeping x\n",
    "    if type(list_x) == list:   \n",
    "        x_hist = np.zeros((len(list_x),len(x)))\n",
    "        for i in range(len(list_x)):\n",
    "            j = 0\n",
    "            for guess in x:\n",
    "                if guess in factors_dic[i].keys():\n",
    "                    x_hist[i][j] = factors_dic[i].get(guess)\n",
    "                    j += 1\n",
    "\n",
    "        x_axis = np.arange(len(x))\n",
    "        width_hist = np.linspace(-0.25,0.25,len(list_x))\n",
    "        width_bar = 0.5/len(list_x)\n",
    "\n",
    "        for i in range(len(list_x)):\n",
    "            plt.bar(x_axis - width_hist[i], x_hist[i], width_bar, label = f'x = {list_x[i]}')\n",
    "\n",
    "        plt.xticks(x_axis, x)\n",
    "        plt.xlabel(\"Factors\")\n",
    "        plt.ylabel(\"Probability\")\n",
    "        plt.title(f'N = {N}, t = {n_count}')\n",
    "        plt.legend()\n",
    "        plt.show()\n",
    "        \n",
    "    # Plot when sweeping n_count\n",
    "    elif type(n_count) == list:\n",
    "        x_hist = np.zeros((len(n_count),len(x)))\n",
    "        for i in range(len(n_count)):\n",
    "            j=0\n",
    "            for guess in x:\n",
    "                if guess in factors_dic[i].keys():\n",
    "                    x_hist[i][j] = factors_dic[i].get(guess)\n",
    "                    j += 1\n",
    "\n",
    "        x_axis = np.arange(len(x))\n",
    "        width_hist = np.linspace(-0.25,0.25,len(n_count))\n",
    "        width_bar = 0.5/len(n_count)\n",
    "\n",
    "        for i in range(len(n_count)):\n",
    "            plt.bar(x_axis - width_hist[i], x_hist[i], width_bar, label = f't = {n_count[i]}')\n",
    "\n",
    "        plt.xticks(x_axis, x)\n",
    "        plt.xlabel(\"Factors\")\n",
    "        plt.ylabel(\"Probability\")\n",
    "        plt.title(f'N = {N}, x = {list_x}')\n",
    "        plt.legend()\n",
    "        plt.show()"
   ]
  },
  {
   "cell_type": "markdown",
   "id": "858853f7",
   "metadata": {},
   "source": [
    "### 3.3.1. Comparison on the effect of different choices of x."
   ]
  },
  {
   "cell_type": "markdown",
   "id": "a53d5648",
   "metadata": {},
   "source": [
    "It has been tested the factorization of the integer $N = 91$ for different values of x. For this, we have set the parameter x to the following values: $x = 5, x = 8, x = 11, x = 15$ and $x = 27$. These values have been chosen considering that they must be coprimes with $N$ in order to obtain a good performance of the algorithm and to fulfill one of the conditions that the Euclidian algorithm imposes to calculate $g.c.d(a,b) = 1$."
   ]
  },
  {
   "cell_type": "code",
   "execution_count": 13,
   "id": "d283e9f9",
   "metadata": {},
   "outputs": [
    {
     "data": {
      "image/png": "[encoded data removed]",
      "text/plain": [
       "<Figure size 432x288 with 1 Axes>"
      ]
     },
     "metadata": {
      "needs_background": "light"
     },
     "output_type": "display_data"
    }
   ],
   "source": [
    "N = 91\n",
    "list_x =[5,8,11,15,27] \n",
    "n_counts = 12       \n",
    "warnings.filterwarnings('ignore', category=DeprecationWarning)\n",
    "x_counts = calculate_guess(N, list_x, n_counts)\n",
    "factors_dic = calculate_factors(list_x, x_counts, N, n_counts)\n",
    "plot_hist(factors_dic, list_x, n_counts, N)"
   ]
  },
  {
   "cell_type": "markdown",
   "id": "87c6b796",
   "metadata": {},
   "source": [
    "After this simulation we obtain the factors of $N$ which are $p = 7$ and $q = 13$ with a probability between $0.25$ and $0.45$ more or less. \n",
    "\n",
    "Notice how does the behaviour of the probabilities change according to the value of x. For $x = 5$, the period is $r = 24$, for $x = 8$ we have $r = 4$ and for $x = 11$ and $x = 15$ the value of the period is $r = 12$. Finally, the purple bars are for $x = 27$ and we have $r = 2$. This last value of $x$ corresponds to the worst case of the algorithm's performance since we are obtaining with the same probability all the guesses. This could be a consequence of having only two states after the inverse QFT (as the period is 2). "
   ]
  },
  {
   "cell_type": "markdown",
   "id": "44cbabfc",
   "metadata": {},
   "source": [
    "### 3.3.2. Study on the effect of the size t of the working register."
   ]
  },
  {
   "cell_type": "markdown",
   "id": "a34cb212",
   "metadata": {},
   "source": [
    "Now we consider the $x$ value fixed while we do sweeps in the number of qubits of the first register. Then, the total number of qubits for each register is given by\n",
    "<br>\n",
    "<center> $n_q = n_{count} + \\log_2{N}$, \n",
    "<br>\n",
    "\n",
    "where $n_{count}$ stands for the number of qubits of the first register which will be the ones that we will be changing and $\\log_2{N}$ corresponds to the number of qubits of the second register. Therefore, we shall compute the total number of qubits needed for this section everytime we input a different number of qubits for the first register. "
   ]
  },
  {
   "cell_type": "code",
   "execution_count": 240,
   "id": "32e48cdc",
   "metadata": {},
   "outputs": [
    {
     "data": {
      "image/png": "[encoded data removed]",
      "text/plain": [
       "<Figure size 432x288 with 1 Axes>"
      ]
     },
     "metadata": {
      "needs_background": "light"
     },
     "output_type": "display_data"
    }
   ],
   "source": [
    "N = 91\n",
    "list_x = 11 \n",
    "n_counts = [3,6,9,12,15] \n",
    "\n",
    "x_counts = find_guess(N, list_x, n_counts)\n",
    "list_dic = factors(list_x, x_counts, N, n_counts)\n",
    "plot_hist(list_dic, list_xlista_15, n_counts, N)"
   ]
  },
  {
   "cell_type": "markdown",
   "id": "da96fba9",
   "metadata": {},
   "source": [
    "The results obtained show how the factorization is accomplished more successfully when the number of qubits of the first register is increased. While for $t = 3$ and $t = 6$ the factors with the highest probability are $1$ and $7$ and $13$ has null counts, for higher number of qubits ($t = 9$, $t = 12$, $t = 15$) the probabilities of obtaining the correct factors increase.\n",
    "\n",
    "The reason for this behaviour is because we are factoring $N = 91$ which is a large number. Therefore, we need more qubits to have enough values of f(x) to compute the periodicity of the function. As will see in the following section, the $t$ needs to fulfill $N^2 \\leq 2^t \\leq 2N^2$ and that is only achieved by $t= 12$ and $t= 15$ which are the ones that return greater probabilities. "
   ]
  },
  {
   "cell_type": "markdown",
   "id": "ef678976",
   "metadata": {},
   "source": [
    "### 3.3.3. Considerations about the measurement requirements, and computational cost."
   ]
  },
  {
   "cell_type": "markdown",
   "id": "dc231192",
   "metadata": {},
   "source": [
    "After the implementation and simulations we can conclude that the total number of qubits required for these algorithm is \n",
    "\n",
    "<br>\n",
    "<center> $n_q = n_{count} + \\log_2{N}$, \n",
    "<br>\n",
    "    \n",
    "as shown in section 3.3.1. However, we have not specified the number of qubits needed for the first register. Considering that $t$ represents the qubits of this first register, then this value is bounded by \n",
    "    \n",
    "<br>\n",
    "<center> $N^2 \\leq 2^t \\leq 2N^2$, \n",
    "<br>\n",
    "    \n",
    "because we need obtain the same value of $f(x)$ for $N$ different values of $x$. Then, knowing that the second register needs as much as qubits needed to represent the number that we want to factorize: $\\log_2{N}$, the total number of qubits is of the order of $O(N^2)$. "
   ]
  }
 ],
 "metadata": {
  "kernelspec": {
   "display_name": "Python 3",
   "language": "python",
   "name": "python3"
  },
  "language_info": {
   "codemirror_mode": {
    "name": "ipython",
    "version": 3
   },
   "file_extension": ".py",
   "mimetype": "text/x-python",
   "name": "python",
   "nbconvert_exporter": "python",
   "pygments_lexer": "ipython3",
   "version": "3.8.8"
  }
 },
 "nbformat": 4,
 "nbformat_minor": 5
}
